{
 "cells": [
  {
   "cell_type": "code",
   "execution_count": 1,
   "metadata": {},
   "outputs": [
    {
     "data": {
      "text/plain": [
       "['172.30.199.52', '172.30.122.107', 'my node']"
      ]
     },
     "execution_count": 1,
     "metadata": {},
     "output_type": "execute_result"
    }
   ],
   "source": [
    "from js9 import j\n",
    "\n",
    "j.clients.zos.list()\n"
   ]
  },
  {
   "cell_type": "code",
   "execution_count": 7,
   "metadata": {},
   "outputs": [],
   "source": [
    "packet_client = j.clients.packetnet.get()\n",
    "\n",
    "iyo_organization = 'zos-training-org'\n",
    "zos_kernel_params = ['organization={}'.format(iyo_organization), 'development', 'console=ttyS1,115200']\n",
    "zos_branch = 'v1.4.1'\n",
    "zos_hostname = 'node-{}-delete-me'.format(j.tools.myconfig.config.data[\"login_name\"])\n",
    "\n",
    "zt_client = j.clients.zerotier.get()\n",
    "\n",
    "\n",
    "\n"
   ]
  },
  {
   "cell_type": "markdown",
   "metadata": {},
   "source": [
    "So here is some markdown!!"
   ]
  },
  {
   "cell_type": "code",
   "execution_count": 11,
   "metadata": {},
   "outputs": [
    {
     "data": {
      "text/plain": [
       "[ZTNetwork <8850338390094a0c:default_network>]"
      ]
     },
     "execution_count": 11,
     "metadata": {},
     "output_type": "execute_result"
    }
   ],
   "source": [
    "zt_client.networks_list()"
   ]
  }
 ],
 "metadata": {
  "kernelspec": {
   "display_name": "Python 3",
   "language": "python",
   "name": "python3"
  },
  "language_info": {
   "codemirror_mode": {
    "name": "ipython",
    "version": 3
   },
   "file_extension": ".py",
   "mimetype": "text/x-python",
   "name": "python",
   "nbconvert_exporter": "python",
   "pygments_lexer": "ipython3",
   "version": "3.6.5"
  }
 },
 "nbformat": 4,
 "nbformat_minor": 2
}
